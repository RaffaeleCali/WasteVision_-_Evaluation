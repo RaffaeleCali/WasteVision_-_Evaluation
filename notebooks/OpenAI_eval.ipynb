{
 "cells": [
  {
   "cell_type": "code",
   "execution_count": 2,
   "id": "7bf41565",
   "metadata": {},
   "outputs": [
    {
     "name": "stdout",
     "output_type": "stream",
     "text": [
      "Requirement already satisfied: roboflow in /home/raffaelecali/anaconda3/lib/python3.9/site-packages (1.1.32)\n",
      "Requirement already satisfied: certifi==2023.7.22 in /home/raffaelecali/anaconda3/lib/python3.9/site-packages (from roboflow) (2023.7.22)\n",
      "Requirement already satisfied: chardet==4.0.0 in /home/raffaelecali/anaconda3/lib/python3.9/site-packages (from roboflow) (4.0.0)\n",
      "Requirement already satisfied: cycler==0.10.0 in /home/raffaelecali/anaconda3/lib/python3.9/site-packages (from roboflow) (0.10.0)\n",
      "Requirement already satisfied: idna==2.10 in /home/raffaelecali/anaconda3/lib/python3.9/site-packages (from roboflow) (2.10)\n",
      "Requirement already satisfied: kiwisolver>=1.3.1 in /home/raffaelecali/anaconda3/lib/python3.9/site-packages (from roboflow) (1.4.2)\n",
      "Requirement already satisfied: matplotlib in /home/raffaelecali/anaconda3/lib/python3.9/site-packages (from roboflow) (3.9.2)\n",
      "Requirement already satisfied: numpy>=1.18.5 in /home/raffaelecali/anaconda3/lib/python3.9/site-packages (from roboflow) (1.26.4)\n",
      "Requirement already satisfied: opencv-python-headless==4.8.0.74 in /home/raffaelecali/anaconda3/lib/python3.9/site-packages (from roboflow) (4.8.0.74)\n",
      "Requirement already satisfied: Pillow>=7.1.2 in /home/raffaelecali/anaconda3/lib/python3.9/site-packages (from roboflow) (9.2.0)\n",
      "Requirement already satisfied: python-dateutil in /home/raffaelecali/anaconda3/lib/python3.9/site-packages (from roboflow) (2.8.2)\n",
      "Requirement already satisfied: python-dotenv in /home/raffaelecali/anaconda3/lib/python3.9/site-packages (from roboflow) (1.0.1)\n",
      "Requirement already satisfied: requests in /home/raffaelecali/anaconda3/lib/python3.9/site-packages (from roboflow) (2.28.1)\n",
      "Requirement already satisfied: six in /home/raffaelecali/anaconda3/lib/python3.9/site-packages (from roboflow) (1.16.0)\n",
      "Requirement already satisfied: urllib3>=1.26.6 in /home/raffaelecali/anaconda3/lib/python3.9/site-packages (from roboflow) (1.26.11)\n",
      "Requirement already satisfied: tqdm>=4.41.0 in /home/raffaelecali/anaconda3/lib/python3.9/site-packages (from roboflow) (4.66.6)\n",
      "Requirement already satisfied: PyYAML>=5.3.1 in /home/raffaelecali/anaconda3/lib/python3.9/site-packages (from roboflow) (6.0.2)\n",
      "Requirement already satisfied: requests-toolbelt in /home/raffaelecali/anaconda3/lib/python3.9/site-packages (from roboflow) (1.0.0)\n",
      "Requirement already satisfied: python-magic in /home/raffaelecali/anaconda3/lib/python3.9/site-packages (from roboflow) (0.4.27)\n",
      "Requirement already satisfied: contourpy>=1.0.1 in /home/raffaelecali/anaconda3/lib/python3.9/site-packages (from matplotlib->roboflow) (1.2.1)\n",
      "Requirement already satisfied: fonttools>=4.22.0 in /home/raffaelecali/anaconda3/lib/python3.9/site-packages (from matplotlib->roboflow) (4.25.0)\n",
      "Requirement already satisfied: packaging>=20.0 in /home/raffaelecali/anaconda3/lib/python3.9/site-packages (from matplotlib->roboflow) (24.2)\n",
      "Requirement already satisfied: pyparsing>=2.3.1 in /home/raffaelecali/anaconda3/lib/python3.9/site-packages (from matplotlib->roboflow) (3.0.9)\n",
      "Requirement already satisfied: importlib-resources>=3.2.0 in /home/raffaelecali/anaconda3/lib/python3.9/site-packages (from matplotlib->roboflow) (6.4.0)\n",
      "Requirement already satisfied: zipp>=3.1.0 in /home/raffaelecali/anaconda3/lib/python3.9/site-packages (from importlib-resources>=3.2.0->matplotlib->roboflow) (3.20.2)\n",
      "Requirement already satisfied: charset-normalizer<3,>=2 in /home/raffaelecali/anaconda3/lib/python3.9/site-packages (from requests->roboflow) (2.0.4)\n",
      "loading Roboflow workspace...\n",
      "loading Roboflow project...\n"
     ]
    },
    {
     "name": "stderr",
     "output_type": "stream",
     "text": [
      "Downloading Dataset Version Zip in tossit-plates-1 to yolov11:: 100%|███| 38880/38880 [00:01<00:00, 20215.89it/s]"
     ]
    },
    {
     "name": "stdout",
     "output_type": "stream",
     "text": [
      "\n"
     ]
    },
    {
     "name": "stderr",
     "output_type": "stream",
     "text": [
      "\n",
      "Extracting Dataset Version Zip to tossit-plates-1 in yolov11:: 100%|███████| 1394/1394 [00:00<00:00, 5621.86it/s]\n"
     ]
    }
   ],
   "source": [
    "!pip install roboflow\n",
    "\n",
    "from roboflow import Roboflow\n",
    "rf = Roboflow(api_key=\"\")\n",
    "project = rf.workspace(\"tossit\").project(\"tossit-plates\")\n",
    "version = project.version(1)\n",
    "dataset = version.download(\"yolov11\")\n",
    "                "
   ]
  },
  {
   "cell_type": "code",
   "execution_count": null,
   "id": "22c360a7",
   "metadata": {},
   "outputs": [],
   "source": []
  },
  {
   "cell_type": "code",
   "execution_count": 1,
   "id": "13147b15",
   "metadata": {},
   "outputs": [],
   "source": [
    "import os\n",
    "import json\n",
    "import base64\n",
    "from openai import OpenAI\n"
   ]
  },
  {
   "cell_type": "code",
   "execution_count": null,
   "id": "232d0379",
   "metadata": {},
   "outputs": [],
   "source": [
    "# === Configuration ===\n",
    "API_KEY = \"\"\n",
    "MODEL_NAME = \"gpt-4o\"\n",
    "PROMPT = (\n",
    "    \"Calculate the waste of the plate (a number between 0 and 100, where 100 means full plate and 0 means empty). \"\n",
    "    \"The formula is: waste = FoodArea / (plateArea - GarbageArea). \"\n",
    "    \"FoodArea: area covered by food items; \"\n",
    "    \"plateArea: total area of the white plate; \"\n",
    "    \"GarbageArea: area covered by garbage (not food). \"\n",
    "    \"Respond only with the numeric result.\"\n",
    ")\n"
   ]
  },
  {
   "cell_type": "code",
   "execution_count": 4,
   "id": "b2a5fed5",
   "metadata": {},
   "outputs": [],
   "source": [
    "# === Initialize OpenAI Client ===\n",
    "client = OpenAI(api_key=API_KEY)\n",
    "\n"
   ]
  },
  {
   "cell_type": "code",
   "execution_count": 5,
   "id": "70235574",
   "metadata": {},
   "outputs": [],
   "source": [
    "\n",
    "\n",
    "# === Utilities ===\n",
    "def is_valid_image(filename):\n",
    "    return filename.lower().endswith((\".jpg\", \".jpeg\", \".png\"))\n",
    "\n",
    "def is_valid_integer_response(s):\n",
    "    try:\n",
    "        value = float(s)\n",
    "        return value.is_integer() and 0 <= value <= 100\n",
    "    except:\n",
    "        return False\n",
    "\n",
    "def call_model_on_image(image_path):\n",
    "    try:\n",
    "        with open(image_path, \"rb\") as f:\n",
    "            base64_image = base64.b64encode(f.read()).decode(\"utf-8\")\n",
    "\n",
    "        response = client.chat.completions.create(\n",
    "            model=MODEL_NAME,\n",
    "            messages=[\n",
    "                {\n",
    "                    \"role\": \"user\",\n",
    "                    \"content\": [\n",
    "                        {\"type\": \"text\", \"text\": PROMPT},\n",
    "                        {\n",
    "                            \"type\": \"image_url\",\n",
    "                            \"image_url\": {\n",
    "                                \"url\": f\"data:image/jpeg;base64,{base64_image}\"\n",
    "                            }\n",
    "                        }\n",
    "                    ]\n",
    "                }\n",
    "            ],\n",
    "            max_tokens=50,\n",
    "        )\n",
    "\n",
    "        result_text = response.choices[0].message.content.strip()\n",
    "        return {\"image\": os.path.basename(image_path), \"result\": result_text}\n",
    "    except Exception as e:\n",
    "        return {\"image\": os.path.basename(image_path), \"result\": None, \"error\": str(e)}\n",
    "\n",
    "\n",
    "def parse_result(entry):\n",
    "    try:\n",
    "        raw = entry[\"result\"]\n",
    "        if is_valid_integer_response(raw):\n",
    "            return {\n",
    "                \"image\": entry[\"image\"],\n",
    "                \"waste\": int(float(raw))\n",
    "            }\n",
    "        else:\n",
    "            raise ValueError(\"Not a valid integer between 0 and 100\")\n",
    "    except Exception as e:\n",
    "        return {\n",
    "            \"image\": entry[\"image\"],\n",
    "            \"waste\": None,\n",
    "            \"error\": str(e)\n",
    "        }\n",
    "\n",
    "def save_json(data, filename):\n",
    "    with open(filename, \"w\") as f:\n",
    "        json.dump(data, f, indent=2)\n"
   ]
  },
  {
   "cell_type": "code",
   "execution_count": 6,
   "id": "b4a3b5b0",
   "metadata": {},
   "outputs": [],
   "source": [
    "dataset_path = \"tossit-plates-1\"\n",
    "directory = os.path.join(os.getcwd(), dataset_path, \"test\", \"images\")\n",
    "dataset = os.path.basename(dataset_path)  # 'tossit-plates-1'\n"
   ]
  },
  {
   "cell_type": "code",
   "execution_count": 7,
   "id": "8001acc7",
   "metadata": {},
   "outputs": [],
   "source": [
    "\n",
    "file_list = os.listdir(directory)"
   ]
  },
  {
   "cell_type": "code",
   "execution_count": 8,
   "id": "d0af4a5c",
   "metadata": {},
   "outputs": [
    {
     "data": {
      "text/plain": [
       "['Image_100_jpg.rf.4c60f972743538746bcb40f6375f3c84.jpg',\n",
       " 'Image_113_jpg.rf.a74d65b8c3820bf1fc0a5042f49a8419.jpg',\n",
       " 'Image_124_jpeg.rf.498262980563cdd034096b600f106bfe.jpg',\n",
       " 'Image_129_jpg.rf.8f4672a27e948c44543a37a699ab662a.jpg',\n",
       " 'Image_13_png.rf.4eca2d77a288029ac65d067e3e2c56e5.jpg',\n",
       " 'Image_18_jpg.rf.7a1991219aca1fbfb751f498b65c28a0.jpg',\n",
       " 'Image_19_jpg.rf.d75fbf21860bc98018b2a63233be7fd4.jpg',\n",
       " 'Image_5_jpg.rf.c195e7ba10025bf61c28d0b100edddbc.jpg',\n",
       " 'Image_65_png.rf.16e299eb1513f3f02f534eb0bb328b31.jpg',\n",
       " 'Image_85_jpg.rf.df6cb426c92142d009c0d11a8925e590.jpg',\n",
       " 'Image_89_jpg.rf.a420b8fb1cd5aaa554bcea80a03cc763.jpg',\n",
       " 'Image_92_jpg.rf.255486843921bb0e2639a4b34df155a5.jpg',\n",
       " 'color_image_4_jpg.rf.2f42b15022ec8ef205353618cd69fcb6.jpg',\n",
       " 'color_image_5_jpg.rf.2ec3f26f0d30388bb53b3f504f463831.jpg']"
      ]
     },
     "execution_count": 8,
     "metadata": {},
     "output_type": "execute_result"
    }
   ],
   "source": [
    "file_list"
   ]
  },
  {
   "cell_type": "code",
   "execution_count": 9,
   "id": "e2ba1a01",
   "metadata": {},
   "outputs": [],
   "source": [
    "\n",
    "# === Process all images in the current folder ===\n",
    "all_results = []\n",
    "errors_upload = []\n",
    "\n",
    "for filename in file_list:\n",
    "    if is_valid_image(filename):\n",
    "        image_path = os.path.join(directory, filename)\n",
    "        result = call_model_on_image(image_path)\n",
    "        all_results.append(result)\n",
    "        if result.get(\"error\") or result[\"result\"] is None:\n",
    "            errors_upload.append(result)\n",
    "\n",
    "\n",
    "save_json(all_results, f\"{dataset}_openai_waste_predictions.json\")\n",
    "save_json(errors_upload, f\"{dataset}_openai_waste_errors.json\")\n"
   ]
  },
  {
   "cell_type": "code",
   "execution_count": 10,
   "id": "48e2fb0c",
   "metadata": {},
   "outputs": [
    {
     "name": "stdout",
     "output_type": "stream",
     "text": [
      "✅ Processing complete.\n",
      "Total images: 2\n",
      "Valid results: 0\n",
      "Invalid results: 2\n",
      "Upload/API errors: 2\n"
     ]
    }
   ],
   "source": [
    "\n",
    "# === Parse and filter model outputs ===\n",
    "valid = []\n",
    "invalid = []\n",
    "\n",
    "for entry in all_results:\n",
    "    parsed = parse_result(entry)\n",
    "    if parsed[\"waste\"] is not None:\n",
    "        valid.append(parsed)\n",
    "    else:\n",
    "        invalid.append(parsed)\n",
    "\n",
    "save_json(valid, f\"{dataset}_openai_waste_cleaned.json\")\n",
    "save_json(invalid, f\"{dataset}_openai_waste_invalid.json\")\n",
    "\n",
    "# === Summary Output ===\n",
    "print(\"✅ Processing complete.\")\n",
    "print(f\"Total images: {len(all_results)}\")\n",
    "print(f\"Valid results: {len(valid)}\")\n",
    "print(f\"Invalid results: {len(invalid)}\")\n",
    "print(f\"Upload/API errors: {len(errors_upload)}\")\n"
   ]
  },
  {
   "cell_type": "markdown",
   "id": "47e1c751",
   "metadata": {},
   "source": [
    "## Dataset 2 "
   ]
  },
  {
   "cell_type": "code",
   "execution_count": 9,
   "id": "3cfa4e32",
   "metadata": {},
   "outputs": [],
   "source": [
    "# add name of the 2 dataset \n",
    "dataset_path = \"dataset_name\"\n",
    "directory = os.path.join(os.getcwd(), dataset_path, \"test\", \"images\")\n",
    "dataset = os.path.basename(dataset_path)  \n"
   ]
  },
  {
   "cell_type": "code",
   "execution_count": null,
   "id": "62f36c7e",
   "metadata": {},
   "outputs": [],
   "source": [
    "\n",
    "file_list = os.listdir(directory)"
   ]
  },
  {
   "cell_type": "code",
   "execution_count": 10,
   "id": "90f0bbc4",
   "metadata": {},
   "outputs": [
    {
     "data": {
      "text/plain": [
       "'test'"
      ]
     },
     "execution_count": 10,
     "metadata": {},
     "output_type": "execute_result"
    }
   ],
   "source": [
    "\n",
    "# === Process all images in the current folder ===\n",
    "all_results = []\n",
    "errors_upload = []\n",
    "\n",
    "for filename in file_list:\n",
    "    if is_valid_image(filename):\n",
    "        image_path = os.path.join(directory, filename)\n",
    "        result = call_model_on_image(image_path)\n",
    "        all_results.append(result)\n",
    "        if result.get(\"error\") or result[\"result\"] is None:\n",
    "            errors_upload.append(result)\n",
    "\n",
    "\n",
    "save_json(all_results, f\"{dataset}_openai_waste_predictions.json\")\n",
    "save_json(errors_upload, f\"{dataset}_openai_waste_errors.json\")\n"
   ]
  },
  {
   "cell_type": "code",
   "execution_count": null,
   "id": "947c26e6",
   "metadata": {},
   "outputs": [],
   "source": [
    "\n",
    "# === Parse and filter model outputs ===\n",
    "valid = []\n",
    "invalid = []\n",
    "\n",
    "for entry in all_results:\n",
    "    parsed = parse_result(entry)\n",
    "    if parsed[\"waste\"] is not None:\n",
    "        valid.append(parsed)\n",
    "    else:\n",
    "        invalid.append(parsed)\n",
    "\n",
    "save_json(valid, f\"{dataset}_openai_waste_cleaned.json\")\n",
    "save_json(invalid, f\"{dataset}_openai_waste_invalid.json\")\n",
    "\n",
    "# === Summary Output ===\n",
    "print(\"✅ Processing complete.\")\n",
    "print(f\"Total images: {len(all_results)}\")\n",
    "print(f\"Valid results: {len(valid)}\")\n",
    "print(f\"Invalid results: {len(invalid)}\")\n",
    "print(f\"Upload/API errors: {len(errors_upload)}\")\n"
   ]
  },
  {
   "cell_type": "markdown",
   "id": "3c5208a5",
   "metadata": {},
   "source": [
    "## 3 Dataset "
   ]
  },
  {
   "cell_type": "code",
   "execution_count": null,
   "id": "b8c1bd61",
   "metadata": {},
   "outputs": [],
   "source": [
    "# add name of the 2 dataset \n",
    "dataset_path = \"dataset_name\"\n",
    "directory = os.path.join(os.getcwd(), dataset_path, \"test\", \"images\")\n",
    "dataset = os.path.basename(dataset_path)  \n",
    "\n",
    "file_list = os.listdir(directory)"
   ]
  },
  {
   "cell_type": "code",
   "execution_count": null,
   "id": "a8ec0f48",
   "metadata": {},
   "outputs": [],
   "source": [
    "\n",
    "# === Process all images in the current folder ===\n",
    "all_results = []\n",
    "errors_upload = []\n",
    "\n",
    "for filename in file_list:\n",
    "    if is_valid_image(filename):\n",
    "        image_path = os.path.join(directory, filename)\n",
    "        result = call_model_on_image(image_path)\n",
    "        all_results.append(result)\n",
    "        if result.get(\"error\") or result[\"result\"] is None:\n",
    "            errors_upload.append(result)\n",
    "\n",
    "\n",
    "save_json(all_results, f\"{dataset}_openai_waste_predictions.json\")\n",
    "save_json(errors_upload, f\"{dataset}_openai_waste_errors.json\")\n"
   ]
  },
  {
   "cell_type": "code",
   "execution_count": null,
   "id": "99c126f6",
   "metadata": {},
   "outputs": [],
   "source": [
    "\n",
    "# === Parse and filter model outputs ===\n",
    "valid = []\n",
    "invalid = []\n",
    "\n",
    "for entry in all_results:\n",
    "    parsed = parse_result(entry)\n",
    "    if parsed[\"waste\"] is not None:\n",
    "        valid.append(parsed)\n",
    "    else:\n",
    "        invalid.append(parsed)\n",
    "\n",
    "save_json(valid, f\"{dataset}_openai_waste_cleaned.json\")\n",
    "save_json(invalid, f\"{dataset}_openai_waste_invalid.json\")\n",
    "\n",
    "# === Summary Output ===\n",
    "print(\"✅ Processing complete.\")\n",
    "print(f\"Total images: {len(all_results)}\")\n",
    "print(f\"Valid results: {len(valid)}\")\n",
    "print(f\"Invalid results: {len(invalid)}\")\n",
    "print(f\"Upload/API errors: {len(errors_upload)}\")\n"
   ]
  }
 ],
 "metadata": {
  "kernelspec": {
   "display_name": "Python 3 (ipykernel)",
   "language": "python",
   "name": "python3"
  },
  "language_info": {
   "codemirror_mode": {
    "name": "ipython",
    "version": 3
   },
   "file_extension": ".py",
   "mimetype": "text/x-python",
   "name": "python",
   "nbconvert_exporter": "python",
   "pygments_lexer": "ipython3",
   "version": "3.9.13"
  }
 },
 "nbformat": 4,
 "nbformat_minor": 5
}
